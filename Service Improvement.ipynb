{
 "cells": [
  {
   "cell_type": "markdown",
   "id": "e04c4958-c772-47b4-9144-ea22fa783726",
   "metadata": {},
   "source": [
    "The Data that was collected can be found [Here](https://www.kaggle.com/datasets/swathiunnikrishnan/amazon-consumer-behaviour-dataset)"
   ]
  },
  {
   "cell_type": "markdown",
   "id": "6d740c4d-405c-4157-8092-1718a642c1b3",
   "metadata": {},
   "source": [
    "## Customers Response"
   ]
  },
  {
   "cell_type": "code",
   "execution_count": 1,
   "id": "2d2a1c36-e994-422a-972d-bb6f3fd44d13",
   "metadata": {
    "collapsed": true,
    "jupyter": {
     "outputs_hidden": true
    },
    "tags": []
   },
   "outputs": [
    {
     "data": {
      "text/html": [
       "<div>\n",
       "<style scoped>\n",
       "    .dataframe tbody tr th:only-of-type {\n",
       "        vertical-align: middle;\n",
       "    }\n",
       "\n",
       "    .dataframe tbody tr th {\n",
       "        vertical-align: top;\n",
       "    }\n",
       "\n",
       "    .dataframe thead th {\n",
       "        text-align: right;\n",
       "    }\n",
       "</style>\n",
       "<table border=\"1\" class=\"dataframe\">\n",
       "  <thead>\n",
       "    <tr style=\"text-align: right;\">\n",
       "      <th></th>\n",
       "      <th>Number</th>\n",
       "      <th>Timestamp</th>\n",
       "      <th>age</th>\n",
       "      <th>Gender</th>\n",
       "      <th>Purchase_Frequency</th>\n",
       "      <th>Purchase_Categories</th>\n",
       "      <th>Personalized_Recommendation_Frequency</th>\n",
       "      <th>Browsing_Frequency</th>\n",
       "      <th>Product_Search_Method</th>\n",
       "      <th>Search_Result_Exploration</th>\n",
       "      <th>...</th>\n",
       "      <th>Saveforlater_Frequency</th>\n",
       "      <th>Review_Left</th>\n",
       "      <th>Review_Reliability</th>\n",
       "      <th>Review_Helpfulness</th>\n",
       "      <th>Personalized_Recommendation_Frequency</th>\n",
       "      <th>Recommendation_Helpfulness</th>\n",
       "      <th>Rating_Accuracy</th>\n",
       "      <th>Shopping_Satisfaction</th>\n",
       "      <th>Service_Appreciation</th>\n",
       "      <th>Improvement_Areas</th>\n",
       "    </tr>\n",
       "  </thead>\n",
       "  <tbody>\n",
       "    <tr>\n",
       "      <th>0</th>\n",
       "      <td>1</td>\n",
       "      <td>2023/06/04 1:28:19 PM GMT+5:30</td>\n",
       "      <td>23</td>\n",
       "      <td>Female</td>\n",
       "      <td>Few times a month</td>\n",
       "      <td>Beauty and Personal Care</td>\n",
       "      <td>Yes</td>\n",
       "      <td>Few times a week</td>\n",
       "      <td>Keyword</td>\n",
       "      <td>Multiple pages</td>\n",
       "      <td>...</td>\n",
       "      <td>Sometimes</td>\n",
       "      <td>Yes</td>\n",
       "      <td>Occasionally</td>\n",
       "      <td>Yes</td>\n",
       "      <td>2</td>\n",
       "      <td>Yes</td>\n",
       "      <td>1</td>\n",
       "      <td>1</td>\n",
       "      <td>Competitive prices</td>\n",
       "      <td>Reducing packaging waste</td>\n",
       "    </tr>\n",
       "    <tr>\n",
       "      <th>1</th>\n",
       "      <td>2</td>\n",
       "      <td>2023/06/04 2:30:44 PM GMT+5:30</td>\n",
       "      <td>23</td>\n",
       "      <td>Female</td>\n",
       "      <td>Once a month</td>\n",
       "      <td>Clothing and Fashion</td>\n",
       "      <td>Yes</td>\n",
       "      <td>Few times a month</td>\n",
       "      <td>Keyword</td>\n",
       "      <td>Multiple pages</td>\n",
       "      <td>...</td>\n",
       "      <td>Rarely</td>\n",
       "      <td>No</td>\n",
       "      <td>Heavily</td>\n",
       "      <td>Yes</td>\n",
       "      <td>2</td>\n",
       "      <td>Sometimes</td>\n",
       "      <td>3</td>\n",
       "      <td>2</td>\n",
       "      <td>Wide product selection</td>\n",
       "      <td>Reducing packaging waste</td>\n",
       "    </tr>\n",
       "    <tr>\n",
       "      <th>2</th>\n",
       "      <td>3</td>\n",
       "      <td>2023/06/04 5:04:56 PM GMT+5:30</td>\n",
       "      <td>24</td>\n",
       "      <td>Prefer not to say</td>\n",
       "      <td>Few times a month</td>\n",
       "      <td>Groceries and Gourmet Food;Clothing and Fashion</td>\n",
       "      <td>No</td>\n",
       "      <td>Few times a month</td>\n",
       "      <td>Keyword</td>\n",
       "      <td>Multiple pages</td>\n",
       "      <td>...</td>\n",
       "      <td>Rarely</td>\n",
       "      <td>No</td>\n",
       "      <td>Occasionally</td>\n",
       "      <td>No</td>\n",
       "      <td>4</td>\n",
       "      <td>No</td>\n",
       "      <td>3</td>\n",
       "      <td>3</td>\n",
       "      <td>Competitive prices</td>\n",
       "      <td>Product quality and accuracy</td>\n",
       "    </tr>\n",
       "    <tr>\n",
       "      <th>3</th>\n",
       "      <td>4</td>\n",
       "      <td>2023/06/04 5:13:00 PM GMT+5:30</td>\n",
       "      <td>24</td>\n",
       "      <td>Female</td>\n",
       "      <td>Once a month</td>\n",
       "      <td>Beauty and Personal Care;Clothing and Fashion;...</td>\n",
       "      <td>Sometimes</td>\n",
       "      <td>Few times a month</td>\n",
       "      <td>Keyword</td>\n",
       "      <td>First page</td>\n",
       "      <td>...</td>\n",
       "      <td>Sometimes</td>\n",
       "      <td>Yes</td>\n",
       "      <td>Heavily</td>\n",
       "      <td>Yes</td>\n",
       "      <td>3</td>\n",
       "      <td>Sometimes</td>\n",
       "      <td>3</td>\n",
       "      <td>4</td>\n",
       "      <td>Competitive prices</td>\n",
       "      <td>Product quality and accuracy</td>\n",
       "    </tr>\n",
       "    <tr>\n",
       "      <th>4</th>\n",
       "      <td>5</td>\n",
       "      <td>2023/06/04 5:28:06 PM GMT+5:30</td>\n",
       "      <td>22</td>\n",
       "      <td>Female</td>\n",
       "      <td>Less than once a month</td>\n",
       "      <td>Beauty and Personal Care;Clothing and Fashion</td>\n",
       "      <td>Yes</td>\n",
       "      <td>Few times a month</td>\n",
       "      <td>Filter</td>\n",
       "      <td>Multiple pages</td>\n",
       "      <td>...</td>\n",
       "      <td>Rarely</td>\n",
       "      <td>No</td>\n",
       "      <td>Heavily</td>\n",
       "      <td>Yes</td>\n",
       "      <td>4</td>\n",
       "      <td>Yes</td>\n",
       "      <td>2</td>\n",
       "      <td>2</td>\n",
       "      <td>Competitive prices</td>\n",
       "      <td>Product quality and accuracy</td>\n",
       "    </tr>\n",
       "  </tbody>\n",
       "</table>\n",
       "<p>5 rows × 24 columns</p>\n",
       "</div>"
      ],
      "text/plain": [
       "   Number                       Timestamp  age             Gender  \\\n",
       "0       1  2023/06/04 1:28:19 PM GMT+5:30   23             Female   \n",
       "1       2  2023/06/04 2:30:44 PM GMT+5:30   23             Female   \n",
       "2       3  2023/06/04 5:04:56 PM GMT+5:30   24  Prefer not to say   \n",
       "3       4  2023/06/04 5:13:00 PM GMT+5:30   24             Female   \n",
       "4       5  2023/06/04 5:28:06 PM GMT+5:30   22             Female   \n",
       "\n",
       "       Purchase_Frequency                                Purchase_Categories  \\\n",
       "0       Few times a month                           Beauty and Personal Care   \n",
       "1            Once a month                               Clothing and Fashion   \n",
       "2       Few times a month    Groceries and Gourmet Food;Clothing and Fashion   \n",
       "3            Once a month  Beauty and Personal Care;Clothing and Fashion;...   \n",
       "4  Less than once a month      Beauty and Personal Care;Clothing and Fashion   \n",
       "\n",
       "  Personalized_Recommendation_Frequency Browsing_Frequency  \\\n",
       "0                                   Yes   Few times a week   \n",
       "1                                   Yes  Few times a month   \n",
       "2                                    No  Few times a month   \n",
       "3                             Sometimes  Few times a month   \n",
       "4                                   Yes  Few times a month   \n",
       "\n",
       "  Product_Search_Method Search_Result_Exploration  ...  \\\n",
       "0               Keyword            Multiple pages  ...   \n",
       "1               Keyword            Multiple pages  ...   \n",
       "2               Keyword            Multiple pages  ...   \n",
       "3               Keyword                First page  ...   \n",
       "4                Filter            Multiple pages  ...   \n",
       "\n",
       "   Saveforlater_Frequency Review_Left Review_Reliability Review_Helpfulness  \\\n",
       "0               Sometimes         Yes       Occasionally                Yes   \n",
       "1                  Rarely          No            Heavily                Yes   \n",
       "2                  Rarely          No       Occasionally                 No   \n",
       "3               Sometimes         Yes            Heavily                Yes   \n",
       "4                  Rarely          No            Heavily                Yes   \n",
       "\n",
       "  Personalized_Recommendation_Frequency  Recommendation_Helpfulness  \\\n",
       "0                                      2                        Yes   \n",
       "1                                      2                  Sometimes   \n",
       "2                                      4                         No   \n",
       "3                                      3                  Sometimes   \n",
       "4                                      4                        Yes   \n",
       "\n",
       "  Rating_Accuracy  Shopping_Satisfaction    Service_Appreciation  \\\n",
       "0                1                     1      Competitive prices   \n",
       "1                3                     2  Wide product selection   \n",
       "2                3                     3      Competitive prices   \n",
       "3                3                     4      Competitive prices   \n",
       "4                2                     2      Competitive prices   \n",
       "\n",
       "              Improvement_Areas  \n",
       "0      Reducing packaging waste  \n",
       "1      Reducing packaging waste  \n",
       "2  Product quality and accuracy  \n",
       "3  Product quality and accuracy  \n",
       "4  Product quality and accuracy  \n",
       "\n",
       "[5 rows x 24 columns]"
      ]
     },
     "execution_count": 1,
     "metadata": {},
     "output_type": "execute_result"
    }
   ],
   "source": [
    "import pandas as pd\n",
    "import numpy as np\n",
    "from scipy import stats\n",
    "\n",
    "df_sample = pd.read_csv('ProjectData.csv')\n",
    "df_sample.head()"
   ]
  },
  {
   "cell_type": "code",
   "execution_count": 2,
   "id": "9872f8b2-a66e-428f-b019-6b27d3534113",
   "metadata": {},
   "outputs": [
    {
     "name": "stdout",
     "output_type": "stream",
     "text": [
      "Customer service responsiveness                                217\n",
      "Product quality and accuracy                                   159\n",
      "Reducing packaging waste                                       133\n",
      "Shipping speed and reliability                                  79\n",
      "Quality of product is very poor according to the big offers      1\n",
      "Name: Improvement_Areas, dtype: int64\n",
      "Sample Size : 602\n"
     ]
    }
   ],
   "source": [
    "#Selecting sample data\n",
    "sample = df_sample['Improvement_Areas']\n",
    "sample_size = sample.count()\n",
    "\n",
    "#Display sample information\n",
    "print(sample.value_counts().head())\n",
    "print('Sample Size :', sample_size)"
   ]
  },
  {
   "cell_type": "code",
   "execution_count": 3,
   "id": "94ceed1a-9731-4f4c-b873-00c13abd7e97",
   "metadata": {},
   "outputs": [
    {
     "data": {
      "text/html": [
       "<div>\n",
       "<style scoped>\n",
       "    .dataframe tbody tr th:only-of-type {\n",
       "        vertical-align: middle;\n",
       "    }\n",
       "\n",
       "    .dataframe tbody tr th {\n",
       "        vertical-align: top;\n",
       "    }\n",
       "\n",
       "    .dataframe thead th {\n",
       "        text-align: right;\n",
       "    }\n",
       "</style>\n",
       "<table border=\"1\" class=\"dataframe\">\n",
       "  <thead>\n",
       "    <tr style=\"text-align: right;\">\n",
       "      <th></th>\n",
       "      <th>Proportion</th>\n",
       "      <th>Ratio</th>\n",
       "    </tr>\n",
       "  </thead>\n",
       "  <tbody>\n",
       "    <tr>\n",
       "      <th>Customer service responsiveness</th>\n",
       "      <td>217</td>\n",
       "      <td>0.360465</td>\n",
       "    </tr>\n",
       "    <tr>\n",
       "      <th>Product quality and accuracy</th>\n",
       "      <td>159</td>\n",
       "      <td>0.264120</td>\n",
       "    </tr>\n",
       "    <tr>\n",
       "      <th>Reducing packaging waste</th>\n",
       "      <td>133</td>\n",
       "      <td>0.220930</td>\n",
       "    </tr>\n",
       "    <tr>\n",
       "      <th>Shipping speed and reliability</th>\n",
       "      <td>79</td>\n",
       "      <td>0.131229</td>\n",
       "    </tr>\n",
       "    <tr>\n",
       "      <th>Quality of product is very poor according to the big offers</th>\n",
       "      <td>1</td>\n",
       "      <td>0.001661</td>\n",
       "    </tr>\n",
       "  </tbody>\n",
       "</table>\n",
       "</div>"
      ],
      "text/plain": [
       "                                                    Proportion     Ratio\n",
       "Customer service responsiveness                            217  0.360465\n",
       "Product quality and accuracy                               159  0.264120\n",
       "Reducing packaging waste                                   133  0.220930\n",
       "Shipping speed and reliability                              79  0.131229\n",
       "Quality of product is very poor according to th...           1  0.001661"
      ]
     },
     "execution_count": 3,
     "metadata": {},
     "output_type": "execute_result"
    }
   ],
   "source": [
    "# Calculate the ratio of sample\n",
    "proportion = sample.value_counts() / sample_size\n",
    "\n",
    "# Create a data frame consist both propotion and raito\n",
    "sample_table = pd.DataFrame({'Proportion' : sample.value_counts(), 'Ratio': proportion.values})\n",
    "\n",
    "# Display the proportion DataFrame\n",
    "sample_table.head()"
   ]
  },
  {
   "cell_type": "markdown",
   "id": "8a43665b-3cde-46c5-88e8-10f37e5ba687",
   "metadata": {},
   "source": [
    "### Calculate the proportion\n",
    "p̂ = a / n"
   ]
  },
  {
   "cell_type": "code",
   "execution_count": 4,
   "id": "23e5d716-2dc1-4809-8ffa-6166b2a87b98",
   "metadata": {},
   "outputs": [
    {
     "data": {
      "text/plain": [
       "0.3610648918469218"
      ]
     },
     "execution_count": 4,
     "metadata": {},
     "output_type": "execute_result"
    }
   ],
   "source": [
    "#Sample Size\n",
    "n = 601\n",
    "a = 217\n",
    "\n",
    "# P_Hat already on the table\n",
    "p_hat = a/n\n",
    "p_hat"
   ]
  },
  {
   "cell_type": "code",
   "execution_count": 5,
   "id": "eadc924a-fbe1-4e1d-8942-cc312154a498",
   "metadata": {},
   "outputs": [
    {
     "name": "stdout",
     "output_type": "stream",
     "text": [
      "36.1 % of our cusotomers feels that our customer services need to be more responsives\n"
     ]
    }
   ],
   "source": [
    "print((round(p_hat, 3)*100),\"% of our cusotomers feels that our customer services need to be more responsives\")"
   ]
  },
  {
   "cell_type": "markdown",
   "id": "42a62a0a-fb67-40e1-91d4-794c62ab6942",
   "metadata": {},
   "source": [
    "### Confidence Interval 95%\n",
    "Because the N population is unknown, we use this formula\n",
    "***\n",
    "![formula](Picture1.png)\n",
    "***"
   ]
  },
  {
   "cell_type": "code",
   "execution_count": 6,
   "id": "6e5217c3-1373-4214-ac34-66e2a0fc9a1d",
   "metadata": {},
   "outputs": [
    {
     "data": {
      "text/plain": [
       "0.00038449505953748746"
      ]
     },
     "execution_count": 6,
     "metadata": {},
     "output_type": "execute_result"
    }
   ],
   "source": [
    "#Variance p_hat\n",
    "var_p_hat = (p_hat * (1 - p_hat)) / (n - 1)\n",
    "var_p_hat"
   ]
  },
  {
   "cell_type": "code",
   "execution_count": 7,
   "id": "25100262-2136-48fa-9436-610400f2da10",
   "metadata": {},
   "outputs": [
    {
     "name": "stdout",
     "output_type": "stream",
     "text": [
      "With 601 first sample drawn (n = 601), we got variance 0.00038449505953748746\n"
     ]
    }
   ],
   "source": [
    "print(\"With 601 first sample drawn (n = 601), we got variance\", var_p_hat)"
   ]
  },
  {
   "cell_type": "markdown",
   "id": "f15e5ff3-f126-4601-b171-bcb7e3f10ebd",
   "metadata": {},
   "source": [
    "Because the sample size that we have is n > 30, we use z-score to calculate MoE  \n",
    "MOE_γ = z_γ × √(σ^2)"
   ]
  },
  {
   "cell_type": "code",
   "execution_count": 8,
   "id": "fd761da7-c638-4004-88f8-2c792587afdd",
   "metadata": {},
   "outputs": [
    {
     "data": {
      "text/plain": [
       "1.959963984540054"
      ]
     },
     "execution_count": 8,
     "metadata": {},
     "output_type": "execute_result"
    }
   ],
   "source": [
    "#Confidence Interval 95%\n",
    "alpha = 0.05\n",
    "\n",
    "#Z-score\n",
    "z_stat = stats.norm.ppf(q=1-(alpha/2))\n",
    "z_stat"
   ]
  },
  {
   "cell_type": "code",
   "execution_count": 9,
   "id": "cf8f1628-0488-4866-bc75-82dff84310fa",
   "metadata": {},
   "outputs": [
    {
     "data": {
      "text/plain": [
       "0.03843204311474468"
      ]
     },
     "execution_count": 9,
     "metadata": {},
     "output_type": "execute_result"
    }
   ],
   "source": [
    "#Margin of Error\n",
    "d = z_stat * np.sqrt(var_p_hat)\n",
    "d"
   ]
  },
  {
   "cell_type": "code",
   "execution_count": 10,
   "id": "1d54a6a8-6ac3-42c0-bb70-a08d252ad5f5",
   "metadata": {},
   "outputs": [
    {
     "name": "stdout",
     "output_type": "stream",
     "text": [
      "With 0.00038449505953748746 Variance, we got Margin of Error (d) 0.03843204311474468\n"
     ]
    }
   ],
   "source": [
    "print('With', var_p_hat, 'Variance, we got Margin of Error (d)', d)"
   ]
  },
  {
   "cell_type": "markdown",
   "id": "29539398-dd93-4cd6-98ba-88904906d708",
   "metadata": {},
   "source": [
    "### Calculate Upper and Lower Bound"
   ]
  },
  {
   "cell_type": "code",
   "execution_count": 11,
   "id": "2370e916-e106-4324-9dc7-8ff1e5fc3db8",
   "metadata": {},
   "outputs": [
    {
     "name": "stdout",
     "output_type": "stream",
     "text": [
      "Lower Bound : 0.3226328487321771 Upper Bound : 0.3994969349616665\n"
     ]
    }
   ],
   "source": [
    "#Error Bound\n",
    "upper_inv = p_hat + d\n",
    "lower_inv = p_hat - d\n",
    "print('Lower Bound :', lower_inv, 'Upper Bound :', upper_inv)"
   ]
  },
  {
   "cell_type": "code",
   "execution_count": 35,
   "id": "6e328b9c-352f-4384-91bf-8dad9c9f78ac",
   "metadata": {},
   "outputs": [
    {
     "name": "stdout",
     "output_type": "stream",
     "text": [
      "We are 95% confidence that the proportion of population is around 32.0 % to  40.0 %\n"
     ]
    }
   ],
   "source": [
    "print('We are 95% confidence that the proportion of population is around', (round(lower_inv, 2) * 100), '% to ', (round(upper_inv, 2) * 100), '%' )"
   ]
  },
  {
   "cell_type": "markdown",
   "id": "393589f9-56e9-4f2a-8b90-e026832bd35d",
   "metadata": {},
   "source": [
    "With sample 601 (n), we can summarize that 36.1 % of our cusotomers feels that our customer services need to be more responsives  \n",
    "and we can assume that it represents the true value of population given the margin of errors (d) 0.0385 or 4%. With lower bound  \n",
    "32.2% to upper bound 39.9%."
   ]
  },
  {
   "cell_type": "markdown",
   "id": "1a05a15d-2b31-440e-a6d8-32fff8977f0e",
   "metadata": {},
   "source": [
    "## Calculating Sample Size\n",
    "we want to calculate sample size for the next draw, we do that by reducing MoE by 25% we're using this formula under the assumption that N >> n \n",
    "  \n",
    "![sample_size](Picture2.png)\n"
   ]
  },
  {
   "cell_type": "code",
   "execution_count": 13,
   "id": "b6bbfc5e-e17a-4b30-80a3-d574223f3c97",
   "metadata": {},
   "outputs": [
    {
     "data": {
      "text/plain": [
       "0.028824032336058507"
      ]
     },
     "execution_count": 13,
     "metadata": {},
     "output_type": "execute_result"
    }
   ],
   "source": [
    "# Calculate new d (25%)\n",
    "d_new = (1 - 0.25) * d\n",
    "d_new"
   ]
  },
  {
   "cell_type": "code",
   "execution_count": 14,
   "id": "6b102169-e35e-4fad-b5e9-1c9f962e69ba",
   "metadata": {},
   "outputs": [
    {
     "data": {
      "text/plain": [
       "1155.917178699437"
      ]
     },
     "execution_count": 14,
     "metadata": {},
     "output_type": "execute_result"
    }
   ],
   "source": [
    "#Calculate next sample size\n",
    "p = 0.5 # N is unknown\n",
    "\n",
    "n_new = (p * (1 - p)) * ((z_stat / d_new )**2)\n",
    "n_new"
   ]
  },
  {
   "cell_type": "code",
   "execution_count": 15,
   "id": "a20a0aba-3fc1-4ea2-8ea6-164026ca0172",
   "metadata": {},
   "outputs": [
    {
     "name": "stdout",
     "output_type": "stream",
     "text": [
      "The sample size of second draw will be 1156\n"
     ]
    }
   ],
   "source": [
    "print('The sample size of second the draw will be', round(n_new))"
   ]
  },
  {
   "cell_type": "markdown",
   "id": "eb5295d9-f510-430a-aa40-bfedf48e7ec1",
   "metadata": {},
   "source": [
    "## Conclusion "
   ]
  },
  {
   "cell_type": "markdown",
   "id": "627d62c0-220e-42da-8fbd-c18351a6bbfc",
   "metadata": {},
   "source": [
    "After performing calculation and analysis from first sample drawn, it can be concluded that the majority of customers (36.1%)  \n",
    "feels that the service that needs improving is Customer Service Responsiveness. It is possible that customers feels that the   \n",
    "AI customer services still lack 'human' response. "
   ]
  },
  {
   "cell_type": "code",
   "execution_count": 24,
   "id": "8fdf52a0-d8fc-4117-bc03-2052963ebe53",
   "metadata": {
    "jupyter": {
     "source_hidden": true
    },
    "tags": []
   },
   "outputs": [
    {
     "data": {
      "image/png": "[encoded data removed]",
      "text/plain": [
       "<Figure size 640x480 with 1 Axes>"
      ]
     },
     "metadata": {},
     "output_type": "display_data"
    }
   ],
   "source": [
    "import matplotlib.pyplot as plt\n",
    "\n",
    "sample_age = df_sample['age'].value_counts()\n",
    "\n",
    "# Assuming you have the DataFrame with the 'Age' column\n",
    "data = pd.DataFrame({'Age': df_sample['age'].values})\n",
    "\n",
    "# Create a histogram\n",
    "plt.hist(data['Age'], bins=10, color='blue', edgecolor='black')\n",
    "\n",
    "# Add labels and title\n",
    "plt.xlabel('Age')\n",
    "plt.ylabel('Frequency')\n",
    "plt.title('Age Histogram')\n",
    "\n",
    "# Show the plot\n",
    "plt.show()\n"
   ]
  },
  {
   "cell_type": "markdown",
   "id": "d0af4698-7a1e-4806-ae02-5e2a5297a746",
   "metadata": {},
   "source": [
    "This conclusion is also backed by the age distribution. If we look at the age distribution, it concentrate at age between  \n",
    "18 - 30 years old. As we know, that AI feature is quite trending around young adult. However due to it's conviniency  \n",
    "to draw a second sample, it is probably best to perform another sampling to be certain."
   ]
  },
  {
   "cell_type": "code",
   "execution_count": null,
   "id": "5caa6f0d-be61-4094-af54-06b8233e0b51",
   "metadata": {},
   "outputs": [],
   "source": []
  }
 ],
 "metadata": {
  "kernelspec": {
   "display_name": "Python 3 (ipykernel)",
   "language": "python",
   "name": "python3"
  },
  "language_info": {
   "codemirror_mode": {
    "name": "ipython",
    "version": 3
   },
   "file_extension": ".py",
   "mimetype": "text/x-python",
   "name": "python",
   "nbconvert_exporter": "python",
   "pygments_lexer": "ipython3",
   "version": "3.9.13"
  }
 },
 "nbformat": 4,
 "nbformat_minor": 5
}
